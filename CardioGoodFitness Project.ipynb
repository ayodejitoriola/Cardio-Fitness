{
 "cells": [
  {
   "cell_type": "code",
   "execution_count": 1,
   "id": "9636fd94",
   "metadata": {},
   "outputs": [],
   "source": [
    "import numpy as np\n",
    "import pandas as pd\n",
    "import matplotlib.pyplot as plt\n",
    "import seaborn as sns"
   ]
  },
  {
   "cell_type": "code",
   "execution_count": 32,
   "id": "25f571ff",
   "metadata": {},
   "outputs": [
    {
     "data": {
      "text/html": [
       "<div>\n",
       "<style scoped>\n",
       "    .dataframe tbody tr th:only-of-type {\n",
       "        vertical-align: middle;\n",
       "    }\n",
       "\n",
       "    .dataframe tbody tr th {\n",
       "        vertical-align: top;\n",
       "    }\n",
       "\n",
       "    .dataframe thead th {\n",
       "        text-align: right;\n",
       "    }\n",
       "</style>\n",
       "<table border=\"1\" class=\"dataframe\">\n",
       "  <thead>\n",
       "    <tr style=\"text-align: right;\">\n",
       "      <th></th>\n",
       "      <th>Product</th>\n",
       "      <th>Age</th>\n",
       "      <th>Gender</th>\n",
       "      <th>Education</th>\n",
       "      <th>MaritalStatus</th>\n",
       "      <th>Usage</th>\n",
       "      <th>Fitness</th>\n",
       "      <th>Income</th>\n",
       "      <th>Miles</th>\n",
       "    </tr>\n",
       "  </thead>\n",
       "  <tbody>\n",
       "    <tr>\n",
       "      <th>0</th>\n",
       "      <td>TM195</td>\n",
       "      <td>18</td>\n",
       "      <td>Male</td>\n",
       "      <td>14</td>\n",
       "      <td>Single</td>\n",
       "      <td>3</td>\n",
       "      <td>4</td>\n",
       "      <td>29562</td>\n",
       "      <td>112</td>\n",
       "    </tr>\n",
       "    <tr>\n",
       "      <th>1</th>\n",
       "      <td>TM195</td>\n",
       "      <td>19</td>\n",
       "      <td>Male</td>\n",
       "      <td>15</td>\n",
       "      <td>Single</td>\n",
       "      <td>2</td>\n",
       "      <td>3</td>\n",
       "      <td>31836</td>\n",
       "      <td>75</td>\n",
       "    </tr>\n",
       "    <tr>\n",
       "      <th>2</th>\n",
       "      <td>TM195</td>\n",
       "      <td>19</td>\n",
       "      <td>Female</td>\n",
       "      <td>14</td>\n",
       "      <td>Partnered</td>\n",
       "      <td>4</td>\n",
       "      <td>3</td>\n",
       "      <td>30699</td>\n",
       "      <td>66</td>\n",
       "    </tr>\n",
       "    <tr>\n",
       "      <th>3</th>\n",
       "      <td>TM195</td>\n",
       "      <td>19</td>\n",
       "      <td>Male</td>\n",
       "      <td>12</td>\n",
       "      <td>Single</td>\n",
       "      <td>3</td>\n",
       "      <td>3</td>\n",
       "      <td>32973</td>\n",
       "      <td>85</td>\n",
       "    </tr>\n",
       "    <tr>\n",
       "      <th>4</th>\n",
       "      <td>TM195</td>\n",
       "      <td>20</td>\n",
       "      <td>Male</td>\n",
       "      <td>13</td>\n",
       "      <td>Partnered</td>\n",
       "      <td>4</td>\n",
       "      <td>2</td>\n",
       "      <td>35247</td>\n",
       "      <td>47</td>\n",
       "    </tr>\n",
       "    <tr>\n",
       "      <th>...</th>\n",
       "      <td>...</td>\n",
       "      <td>...</td>\n",
       "      <td>...</td>\n",
       "      <td>...</td>\n",
       "      <td>...</td>\n",
       "      <td>...</td>\n",
       "      <td>...</td>\n",
       "      <td>...</td>\n",
       "      <td>...</td>\n",
       "    </tr>\n",
       "    <tr>\n",
       "      <th>175</th>\n",
       "      <td>TM798</td>\n",
       "      <td>40</td>\n",
       "      <td>Male</td>\n",
       "      <td>21</td>\n",
       "      <td>Single</td>\n",
       "      <td>6</td>\n",
       "      <td>5</td>\n",
       "      <td>83416</td>\n",
       "      <td>200</td>\n",
       "    </tr>\n",
       "    <tr>\n",
       "      <th>176</th>\n",
       "      <td>TM798</td>\n",
       "      <td>42</td>\n",
       "      <td>Male</td>\n",
       "      <td>18</td>\n",
       "      <td>Single</td>\n",
       "      <td>5</td>\n",
       "      <td>4</td>\n",
       "      <td>89641</td>\n",
       "      <td>200</td>\n",
       "    </tr>\n",
       "    <tr>\n",
       "      <th>177</th>\n",
       "      <td>TM798</td>\n",
       "      <td>45</td>\n",
       "      <td>Male</td>\n",
       "      <td>16</td>\n",
       "      <td>Single</td>\n",
       "      <td>5</td>\n",
       "      <td>5</td>\n",
       "      <td>90886</td>\n",
       "      <td>160</td>\n",
       "    </tr>\n",
       "    <tr>\n",
       "      <th>178</th>\n",
       "      <td>TM798</td>\n",
       "      <td>47</td>\n",
       "      <td>Male</td>\n",
       "      <td>18</td>\n",
       "      <td>Partnered</td>\n",
       "      <td>4</td>\n",
       "      <td>5</td>\n",
       "      <td>104581</td>\n",
       "      <td>120</td>\n",
       "    </tr>\n",
       "    <tr>\n",
       "      <th>179</th>\n",
       "      <td>TM798</td>\n",
       "      <td>48</td>\n",
       "      <td>Male</td>\n",
       "      <td>18</td>\n",
       "      <td>Partnered</td>\n",
       "      <td>4</td>\n",
       "      <td>5</td>\n",
       "      <td>95508</td>\n",
       "      <td>180</td>\n",
       "    </tr>\n",
       "  </tbody>\n",
       "</table>\n",
       "<p>180 rows × 9 columns</p>\n",
       "</div>"
      ],
      "text/plain": [
       "    Product  Age  Gender  Education MaritalStatus  Usage  Fitness  Income  \\\n",
       "0     TM195   18    Male         14        Single      3        4   29562   \n",
       "1     TM195   19    Male         15        Single      2        3   31836   \n",
       "2     TM195   19  Female         14     Partnered      4        3   30699   \n",
       "3     TM195   19    Male         12        Single      3        3   32973   \n",
       "4     TM195   20    Male         13     Partnered      4        2   35247   \n",
       "..      ...  ...     ...        ...           ...    ...      ...     ...   \n",
       "175   TM798   40    Male         21        Single      6        5   83416   \n",
       "176   TM798   42    Male         18        Single      5        4   89641   \n",
       "177   TM798   45    Male         16        Single      5        5   90886   \n",
       "178   TM798   47    Male         18     Partnered      4        5  104581   \n",
       "179   TM798   48    Male         18     Partnered      4        5   95508   \n",
       "\n",
       "     Miles  \n",
       "0      112  \n",
       "1       75  \n",
       "2       66  \n",
       "3       85  \n",
       "4       47  \n",
       "..     ...  \n",
       "175    200  \n",
       "176    200  \n",
       "177    160  \n",
       "178    120  \n",
       "179    180  \n",
       "\n",
       "[180 rows x 9 columns]"
      ]
     },
     "execution_count": 32,
     "metadata": {},
     "output_type": "execute_result"
    }
   ],
   "source": [
    "CGF=pd.read_csv(r'C:\\Users\\ayode\\Downloads\\CardioGoodFitness-1.csv')\n",
    "CGF"
   ]
  },
  {
   "cell_type": "code",
   "execution_count": 3,
   "id": "042d1d80",
   "metadata": {},
   "outputs": [
    {
     "data": {
      "text/html": [
       "<div>\n",
       "<style scoped>\n",
       "    .dataframe tbody tr th:only-of-type {\n",
       "        vertical-align: middle;\n",
       "    }\n",
       "\n",
       "    .dataframe tbody tr th {\n",
       "        vertical-align: top;\n",
       "    }\n",
       "\n",
       "    .dataframe thead th {\n",
       "        text-align: right;\n",
       "    }\n",
       "</style>\n",
       "<table border=\"1\" class=\"dataframe\">\n",
       "  <thead>\n",
       "    <tr style=\"text-align: right;\">\n",
       "      <th></th>\n",
       "      <th>Product</th>\n",
       "      <th>Age</th>\n",
       "      <th>Gender</th>\n",
       "      <th>Education</th>\n",
       "      <th>MaritalStatus</th>\n",
       "      <th>Usage</th>\n",
       "      <th>Fitness</th>\n",
       "      <th>Income</th>\n",
       "      <th>Miles</th>\n",
       "    </tr>\n",
       "  </thead>\n",
       "  <tbody>\n",
       "    <tr>\n",
       "      <th>0</th>\n",
       "      <td>TM195</td>\n",
       "      <td>18</td>\n",
       "      <td>Male</td>\n",
       "      <td>14</td>\n",
       "      <td>Single</td>\n",
       "      <td>3</td>\n",
       "      <td>4</td>\n",
       "      <td>29562</td>\n",
       "      <td>112</td>\n",
       "    </tr>\n",
       "    <tr>\n",
       "      <th>1</th>\n",
       "      <td>TM195</td>\n",
       "      <td>19</td>\n",
       "      <td>Male</td>\n",
       "      <td>15</td>\n",
       "      <td>Single</td>\n",
       "      <td>2</td>\n",
       "      <td>3</td>\n",
       "      <td>31836</td>\n",
       "      <td>75</td>\n",
       "    </tr>\n",
       "    <tr>\n",
       "      <th>2</th>\n",
       "      <td>TM195</td>\n",
       "      <td>19</td>\n",
       "      <td>Female</td>\n",
       "      <td>14</td>\n",
       "      <td>Partnered</td>\n",
       "      <td>4</td>\n",
       "      <td>3</td>\n",
       "      <td>30699</td>\n",
       "      <td>66</td>\n",
       "    </tr>\n",
       "    <tr>\n",
       "      <th>3</th>\n",
       "      <td>TM195</td>\n",
       "      <td>19</td>\n",
       "      <td>Male</td>\n",
       "      <td>12</td>\n",
       "      <td>Single</td>\n",
       "      <td>3</td>\n",
       "      <td>3</td>\n",
       "      <td>32973</td>\n",
       "      <td>85</td>\n",
       "    </tr>\n",
       "    <tr>\n",
       "      <th>4</th>\n",
       "      <td>TM195</td>\n",
       "      <td>20</td>\n",
       "      <td>Male</td>\n",
       "      <td>13</td>\n",
       "      <td>Partnered</td>\n",
       "      <td>4</td>\n",
       "      <td>2</td>\n",
       "      <td>35247</td>\n",
       "      <td>47</td>\n",
       "    </tr>\n",
       "  </tbody>\n",
       "</table>\n",
       "</div>"
      ],
      "text/plain": [
       "  Product  Age  Gender  Education MaritalStatus  Usage  Fitness  Income  Miles\n",
       "0   TM195   18    Male         14        Single      3        4   29562    112\n",
       "1   TM195   19    Male         15        Single      2        3   31836     75\n",
       "2   TM195   19  Female         14     Partnered      4        3   30699     66\n",
       "3   TM195   19    Male         12        Single      3        3   32973     85\n",
       "4   TM195   20    Male         13     Partnered      4        2   35247     47"
      ]
     },
     "execution_count": 3,
     "metadata": {},
     "output_type": "execute_result"
    }
   ],
   "source": [
    "CGF.head()"
   ]
  },
  {
   "cell_type": "code",
   "execution_count": 4,
   "id": "be09c8f6",
   "metadata": {},
   "outputs": [
    {
     "data": {
      "text/html": [
       "<div>\n",
       "<style scoped>\n",
       "    .dataframe tbody tr th:only-of-type {\n",
       "        vertical-align: middle;\n",
       "    }\n",
       "\n",
       "    .dataframe tbody tr th {\n",
       "        vertical-align: top;\n",
       "    }\n",
       "\n",
       "    .dataframe thead th {\n",
       "        text-align: right;\n",
       "    }\n",
       "</style>\n",
       "<table border=\"1\" class=\"dataframe\">\n",
       "  <thead>\n",
       "    <tr style=\"text-align: right;\">\n",
       "      <th></th>\n",
       "      <th>Product</th>\n",
       "      <th>Age</th>\n",
       "      <th>Gender</th>\n",
       "      <th>Education</th>\n",
       "      <th>MaritalStatus</th>\n",
       "      <th>Usage</th>\n",
       "      <th>Fitness</th>\n",
       "      <th>Income</th>\n",
       "      <th>Miles</th>\n",
       "    </tr>\n",
       "  </thead>\n",
       "  <tbody>\n",
       "    <tr>\n",
       "      <th>128</th>\n",
       "      <td>TM498</td>\n",
       "      <td>35</td>\n",
       "      <td>Female</td>\n",
       "      <td>14</td>\n",
       "      <td>Partnered</td>\n",
       "      <td>3</td>\n",
       "      <td>2</td>\n",
       "      <td>52302</td>\n",
       "      <td>53</td>\n",
       "    </tr>\n",
       "    <tr>\n",
       "      <th>28</th>\n",
       "      <td>TM195</td>\n",
       "      <td>25</td>\n",
       "      <td>Male</td>\n",
       "      <td>14</td>\n",
       "      <td>Partnered</td>\n",
       "      <td>2</td>\n",
       "      <td>3</td>\n",
       "      <td>45480</td>\n",
       "      <td>56</td>\n",
       "    </tr>\n",
       "    <tr>\n",
       "      <th>79</th>\n",
       "      <td>TM195</td>\n",
       "      <td>50</td>\n",
       "      <td>Female</td>\n",
       "      <td>16</td>\n",
       "      <td>Partnered</td>\n",
       "      <td>3</td>\n",
       "      <td>3</td>\n",
       "      <td>64809</td>\n",
       "      <td>66</td>\n",
       "    </tr>\n",
       "    <tr>\n",
       "      <th>105</th>\n",
       "      <td>TM498</td>\n",
       "      <td>25</td>\n",
       "      <td>Male</td>\n",
       "      <td>16</td>\n",
       "      <td>Partnered</td>\n",
       "      <td>2</td>\n",
       "      <td>3</td>\n",
       "      <td>50028</td>\n",
       "      <td>53</td>\n",
       "    </tr>\n",
       "    <tr>\n",
       "      <th>132</th>\n",
       "      <td>TM498</td>\n",
       "      <td>37</td>\n",
       "      <td>Female</td>\n",
       "      <td>16</td>\n",
       "      <td>Partnered</td>\n",
       "      <td>2</td>\n",
       "      <td>3</td>\n",
       "      <td>48891</td>\n",
       "      <td>85</td>\n",
       "    </tr>\n",
       "    <tr>\n",
       "      <th>124</th>\n",
       "      <td>TM498</td>\n",
       "      <td>33</td>\n",
       "      <td>Female</td>\n",
       "      <td>18</td>\n",
       "      <td>Single</td>\n",
       "      <td>3</td>\n",
       "      <td>4</td>\n",
       "      <td>47754</td>\n",
       "      <td>74</td>\n",
       "    </tr>\n",
       "    <tr>\n",
       "      <th>175</th>\n",
       "      <td>TM798</td>\n",
       "      <td>40</td>\n",
       "      <td>Male</td>\n",
       "      <td>21</td>\n",
       "      <td>Single</td>\n",
       "      <td>6</td>\n",
       "      <td>5</td>\n",
       "      <td>83416</td>\n",
       "      <td>200</td>\n",
       "    </tr>\n",
       "    <tr>\n",
       "      <th>140</th>\n",
       "      <td>TM798</td>\n",
       "      <td>22</td>\n",
       "      <td>Male</td>\n",
       "      <td>14</td>\n",
       "      <td>Single</td>\n",
       "      <td>4</td>\n",
       "      <td>3</td>\n",
       "      <td>48658</td>\n",
       "      <td>106</td>\n",
       "    </tr>\n",
       "    <tr>\n",
       "      <th>156</th>\n",
       "      <td>TM798</td>\n",
       "      <td>25</td>\n",
       "      <td>Male</td>\n",
       "      <td>20</td>\n",
       "      <td>Partnered</td>\n",
       "      <td>4</td>\n",
       "      <td>5</td>\n",
       "      <td>74701</td>\n",
       "      <td>170</td>\n",
       "    </tr>\n",
       "    <tr>\n",
       "      <th>95</th>\n",
       "      <td>TM498</td>\n",
       "      <td>24</td>\n",
       "      <td>Male</td>\n",
       "      <td>14</td>\n",
       "      <td>Single</td>\n",
       "      <td>3</td>\n",
       "      <td>4</td>\n",
       "      <td>48891</td>\n",
       "      <td>106</td>\n",
       "    </tr>\n",
       "    <tr>\n",
       "      <th>91</th>\n",
       "      <td>TM498</td>\n",
       "      <td>23</td>\n",
       "      <td>Female</td>\n",
       "      <td>16</td>\n",
       "      <td>Partnered</td>\n",
       "      <td>3</td>\n",
       "      <td>2</td>\n",
       "      <td>43206</td>\n",
       "      <td>74</td>\n",
       "    </tr>\n",
       "    <tr>\n",
       "      <th>163</th>\n",
       "      <td>TM798</td>\n",
       "      <td>28</td>\n",
       "      <td>Male</td>\n",
       "      <td>18</td>\n",
       "      <td>Partnered</td>\n",
       "      <td>7</td>\n",
       "      <td>5</td>\n",
       "      <td>77191</td>\n",
       "      <td>180</td>\n",
       "    </tr>\n",
       "    <tr>\n",
       "      <th>142</th>\n",
       "      <td>TM798</td>\n",
       "      <td>22</td>\n",
       "      <td>Male</td>\n",
       "      <td>18</td>\n",
       "      <td>Single</td>\n",
       "      <td>4</td>\n",
       "      <td>5</td>\n",
       "      <td>48556</td>\n",
       "      <td>200</td>\n",
       "    </tr>\n",
       "    <tr>\n",
       "      <th>178</th>\n",
       "      <td>TM798</td>\n",
       "      <td>47</td>\n",
       "      <td>Male</td>\n",
       "      <td>18</td>\n",
       "      <td>Partnered</td>\n",
       "      <td>4</td>\n",
       "      <td>5</td>\n",
       "      <td>104581</td>\n",
       "      <td>120</td>\n",
       "    </tr>\n",
       "    <tr>\n",
       "      <th>146</th>\n",
       "      <td>TM798</td>\n",
       "      <td>24</td>\n",
       "      <td>Male</td>\n",
       "      <td>16</td>\n",
       "      <td>Single</td>\n",
       "      <td>4</td>\n",
       "      <td>5</td>\n",
       "      <td>61006</td>\n",
       "      <td>100</td>\n",
       "    </tr>\n",
       "    <tr>\n",
       "      <th>61</th>\n",
       "      <td>TM195</td>\n",
       "      <td>34</td>\n",
       "      <td>Male</td>\n",
       "      <td>16</td>\n",
       "      <td>Single</td>\n",
       "      <td>4</td>\n",
       "      <td>5</td>\n",
       "      <td>51165</td>\n",
       "      <td>169</td>\n",
       "    </tr>\n",
       "    <tr>\n",
       "      <th>63</th>\n",
       "      <td>TM195</td>\n",
       "      <td>35</td>\n",
       "      <td>Male</td>\n",
       "      <td>16</td>\n",
       "      <td>Partnered</td>\n",
       "      <td>4</td>\n",
       "      <td>3</td>\n",
       "      <td>48891</td>\n",
       "      <td>85</td>\n",
       "    </tr>\n",
       "    <tr>\n",
       "      <th>32</th>\n",
       "      <td>TM195</td>\n",
       "      <td>25</td>\n",
       "      <td>Female</td>\n",
       "      <td>16</td>\n",
       "      <td>Partnered</td>\n",
       "      <td>2</td>\n",
       "      <td>2</td>\n",
       "      <td>40932</td>\n",
       "      <td>47</td>\n",
       "    </tr>\n",
       "    <tr>\n",
       "      <th>179</th>\n",
       "      <td>TM798</td>\n",
       "      <td>48</td>\n",
       "      <td>Male</td>\n",
       "      <td>18</td>\n",
       "      <td>Partnered</td>\n",
       "      <td>4</td>\n",
       "      <td>5</td>\n",
       "      <td>95508</td>\n",
       "      <td>180</td>\n",
       "    </tr>\n",
       "    <tr>\n",
       "      <th>40</th>\n",
       "      <td>TM195</td>\n",
       "      <td>26</td>\n",
       "      <td>Male</td>\n",
       "      <td>16</td>\n",
       "      <td>Single</td>\n",
       "      <td>3</td>\n",
       "      <td>3</td>\n",
       "      <td>50028</td>\n",
       "      <td>85</td>\n",
       "    </tr>\n",
       "  </tbody>\n",
       "</table>\n",
       "</div>"
      ],
      "text/plain": [
       "    Product  Age  Gender  Education MaritalStatus  Usage  Fitness  Income  \\\n",
       "128   TM498   35  Female         14     Partnered      3        2   52302   \n",
       "28    TM195   25    Male         14     Partnered      2        3   45480   \n",
       "79    TM195   50  Female         16     Partnered      3        3   64809   \n",
       "105   TM498   25    Male         16     Partnered      2        3   50028   \n",
       "132   TM498   37  Female         16     Partnered      2        3   48891   \n",
       "124   TM498   33  Female         18        Single      3        4   47754   \n",
       "175   TM798   40    Male         21        Single      6        5   83416   \n",
       "140   TM798   22    Male         14        Single      4        3   48658   \n",
       "156   TM798   25    Male         20     Partnered      4        5   74701   \n",
       "95    TM498   24    Male         14        Single      3        4   48891   \n",
       "91    TM498   23  Female         16     Partnered      3        2   43206   \n",
       "163   TM798   28    Male         18     Partnered      7        5   77191   \n",
       "142   TM798   22    Male         18        Single      4        5   48556   \n",
       "178   TM798   47    Male         18     Partnered      4        5  104581   \n",
       "146   TM798   24    Male         16        Single      4        5   61006   \n",
       "61    TM195   34    Male         16        Single      4        5   51165   \n",
       "63    TM195   35    Male         16     Partnered      4        3   48891   \n",
       "32    TM195   25  Female         16     Partnered      2        2   40932   \n",
       "179   TM798   48    Male         18     Partnered      4        5   95508   \n",
       "40    TM195   26    Male         16        Single      3        3   50028   \n",
       "\n",
       "     Miles  \n",
       "128     53  \n",
       "28      56  \n",
       "79      66  \n",
       "105     53  \n",
       "132     85  \n",
       "124     74  \n",
       "175    200  \n",
       "140    106  \n",
       "156    170  \n",
       "95     106  \n",
       "91      74  \n",
       "163    180  \n",
       "142    200  \n",
       "178    120  \n",
       "146    100  \n",
       "61     169  \n",
       "63      85  \n",
       "32      47  \n",
       "179    180  \n",
       "40      85  "
      ]
     },
     "execution_count": 4,
     "metadata": {},
     "output_type": "execute_result"
    }
   ],
   "source": [
    "CGF.sample(20)"
   ]
  },
  {
   "cell_type": "code",
   "execution_count": 5,
   "id": "8020b0a7",
   "metadata": {},
   "outputs": [
    {
     "data": {
      "text/plain": [
       "0"
      ]
     },
     "execution_count": 5,
     "metadata": {},
     "output_type": "execute_result"
    }
   ],
   "source": [
    "CGF.duplicated().sum()"
   ]
  },
  {
   "cell_type": "code",
   "execution_count": 6,
   "id": "08387357",
   "metadata": {},
   "outputs": [
    {
     "data": {
      "text/plain": [
       "Product          0\n",
       "Age              0\n",
       "Gender           0\n",
       "Education        0\n",
       "MaritalStatus    0\n",
       "Usage            0\n",
       "Fitness          0\n",
       "Income           0\n",
       "Miles            0\n",
       "dtype: int64"
      ]
     },
     "execution_count": 6,
     "metadata": {},
     "output_type": "execute_result"
    }
   ],
   "source": [
    "CGF.isna().sum()"
   ]
  },
  {
   "cell_type": "code",
   "execution_count": 7,
   "id": "45fbd200",
   "metadata": {},
   "outputs": [
    {
     "name": "stdout",
     "output_type": "stream",
     "text": [
      "<class 'pandas.core.frame.DataFrame'>\n",
      "RangeIndex: 180 entries, 0 to 179\n",
      "Data columns (total 9 columns):\n",
      " #   Column         Non-Null Count  Dtype \n",
      "---  ------         --------------  ----- \n",
      " 0   Product        180 non-null    object\n",
      " 1   Age            180 non-null    int64 \n",
      " 2   Gender         180 non-null    object\n",
      " 3   Education      180 non-null    int64 \n",
      " 4   MaritalStatus  180 non-null    object\n",
      " 5   Usage          180 non-null    int64 \n",
      " 6   Fitness        180 non-null    int64 \n",
      " 7   Income         180 non-null    int64 \n",
      " 8   Miles          180 non-null    int64 \n",
      "dtypes: int64(6), object(3)\n",
      "memory usage: 12.8+ KB\n"
     ]
    }
   ],
   "source": [
    "CGF.info()"
   ]
  },
  {
   "cell_type": "code",
   "execution_count": 8,
   "id": "c156ad20",
   "metadata": {},
   "outputs": [
    {
     "data": {
      "text/plain": [
       "array(['TM195', 'TM498', 'TM798'], dtype=object)"
      ]
     },
     "execution_count": 8,
     "metadata": {},
     "output_type": "execute_result"
    }
   ],
   "source": [
    "CGF.Product.unique()"
   ]
  },
  {
   "cell_type": "code",
   "execution_count": 9,
   "id": "20c4d98a",
   "metadata": {},
   "outputs": [
    {
     "data": {
      "text/html": [
       "<div>\n",
       "<style scoped>\n",
       "    .dataframe tbody tr th:only-of-type {\n",
       "        vertical-align: middle;\n",
       "    }\n",
       "\n",
       "    .dataframe tbody tr th {\n",
       "        vertical-align: top;\n",
       "    }\n",
       "\n",
       "    .dataframe thead th {\n",
       "        text-align: right;\n",
       "    }\n",
       "</style>\n",
       "<table border=\"1\" class=\"dataframe\">\n",
       "  <thead>\n",
       "    <tr style=\"text-align: right;\">\n",
       "      <th></th>\n",
       "      <th>count</th>\n",
       "      <th>unique</th>\n",
       "      <th>top</th>\n",
       "      <th>freq</th>\n",
       "      <th>mean</th>\n",
       "      <th>std</th>\n",
       "      <th>min</th>\n",
       "      <th>25%</th>\n",
       "      <th>50%</th>\n",
       "      <th>75%</th>\n",
       "      <th>max</th>\n",
       "    </tr>\n",
       "  </thead>\n",
       "  <tbody>\n",
       "    <tr>\n",
       "      <th>Product</th>\n",
       "      <td>180</td>\n",
       "      <td>3</td>\n",
       "      <td>TM195</td>\n",
       "      <td>80</td>\n",
       "      <td>NaN</td>\n",
       "      <td>NaN</td>\n",
       "      <td>NaN</td>\n",
       "      <td>NaN</td>\n",
       "      <td>NaN</td>\n",
       "      <td>NaN</td>\n",
       "      <td>NaN</td>\n",
       "    </tr>\n",
       "    <tr>\n",
       "      <th>Age</th>\n",
       "      <td>180.0</td>\n",
       "      <td>NaN</td>\n",
       "      <td>NaN</td>\n",
       "      <td>NaN</td>\n",
       "      <td>28.788889</td>\n",
       "      <td>6.943498</td>\n",
       "      <td>18.0</td>\n",
       "      <td>24.0</td>\n",
       "      <td>26.0</td>\n",
       "      <td>33.0</td>\n",
       "      <td>50.0</td>\n",
       "    </tr>\n",
       "    <tr>\n",
       "      <th>Gender</th>\n",
       "      <td>180</td>\n",
       "      <td>2</td>\n",
       "      <td>Male</td>\n",
       "      <td>104</td>\n",
       "      <td>NaN</td>\n",
       "      <td>NaN</td>\n",
       "      <td>NaN</td>\n",
       "      <td>NaN</td>\n",
       "      <td>NaN</td>\n",
       "      <td>NaN</td>\n",
       "      <td>NaN</td>\n",
       "    </tr>\n",
       "    <tr>\n",
       "      <th>Education</th>\n",
       "      <td>180.0</td>\n",
       "      <td>NaN</td>\n",
       "      <td>NaN</td>\n",
       "      <td>NaN</td>\n",
       "      <td>15.572222</td>\n",
       "      <td>1.617055</td>\n",
       "      <td>12.0</td>\n",
       "      <td>14.0</td>\n",
       "      <td>16.0</td>\n",
       "      <td>16.0</td>\n",
       "      <td>21.0</td>\n",
       "    </tr>\n",
       "    <tr>\n",
       "      <th>MaritalStatus</th>\n",
       "      <td>180</td>\n",
       "      <td>2</td>\n",
       "      <td>Partnered</td>\n",
       "      <td>107</td>\n",
       "      <td>NaN</td>\n",
       "      <td>NaN</td>\n",
       "      <td>NaN</td>\n",
       "      <td>NaN</td>\n",
       "      <td>NaN</td>\n",
       "      <td>NaN</td>\n",
       "      <td>NaN</td>\n",
       "    </tr>\n",
       "    <tr>\n",
       "      <th>Usage</th>\n",
       "      <td>180.0</td>\n",
       "      <td>NaN</td>\n",
       "      <td>NaN</td>\n",
       "      <td>NaN</td>\n",
       "      <td>3.455556</td>\n",
       "      <td>1.084797</td>\n",
       "      <td>2.0</td>\n",
       "      <td>3.0</td>\n",
       "      <td>3.0</td>\n",
       "      <td>4.0</td>\n",
       "      <td>7.0</td>\n",
       "    </tr>\n",
       "    <tr>\n",
       "      <th>Fitness</th>\n",
       "      <td>180.0</td>\n",
       "      <td>NaN</td>\n",
       "      <td>NaN</td>\n",
       "      <td>NaN</td>\n",
       "      <td>3.311111</td>\n",
       "      <td>0.958869</td>\n",
       "      <td>1.0</td>\n",
       "      <td>3.0</td>\n",
       "      <td>3.0</td>\n",
       "      <td>4.0</td>\n",
       "      <td>5.0</td>\n",
       "    </tr>\n",
       "    <tr>\n",
       "      <th>Income</th>\n",
       "      <td>180.0</td>\n",
       "      <td>NaN</td>\n",
       "      <td>NaN</td>\n",
       "      <td>NaN</td>\n",
       "      <td>53719.577778</td>\n",
       "      <td>16506.684226</td>\n",
       "      <td>29562.0</td>\n",
       "      <td>44058.75</td>\n",
       "      <td>50596.5</td>\n",
       "      <td>58668.0</td>\n",
       "      <td>104581.0</td>\n",
       "    </tr>\n",
       "    <tr>\n",
       "      <th>Miles</th>\n",
       "      <td>180.0</td>\n",
       "      <td>NaN</td>\n",
       "      <td>NaN</td>\n",
       "      <td>NaN</td>\n",
       "      <td>103.194444</td>\n",
       "      <td>51.863605</td>\n",
       "      <td>21.0</td>\n",
       "      <td>66.0</td>\n",
       "      <td>94.0</td>\n",
       "      <td>114.75</td>\n",
       "      <td>360.0</td>\n",
       "    </tr>\n",
       "  </tbody>\n",
       "</table>\n",
       "</div>"
      ],
      "text/plain": [
       "               count unique        top freq          mean           std  \\\n",
       "Product          180      3      TM195   80           NaN           NaN   \n",
       "Age            180.0    NaN        NaN  NaN     28.788889      6.943498   \n",
       "Gender           180      2       Male  104           NaN           NaN   \n",
       "Education      180.0    NaN        NaN  NaN     15.572222      1.617055   \n",
       "MaritalStatus    180      2  Partnered  107           NaN           NaN   \n",
       "Usage          180.0    NaN        NaN  NaN      3.455556      1.084797   \n",
       "Fitness        180.0    NaN        NaN  NaN      3.311111      0.958869   \n",
       "Income         180.0    NaN        NaN  NaN  53719.577778  16506.684226   \n",
       "Miles          180.0    NaN        NaN  NaN    103.194444     51.863605   \n",
       "\n",
       "                   min       25%      50%      75%       max  \n",
       "Product            NaN       NaN      NaN      NaN       NaN  \n",
       "Age               18.0      24.0     26.0     33.0      50.0  \n",
       "Gender             NaN       NaN      NaN      NaN       NaN  \n",
       "Education         12.0      14.0     16.0     16.0      21.0  \n",
       "MaritalStatus      NaN       NaN      NaN      NaN       NaN  \n",
       "Usage              2.0       3.0      3.0      4.0       7.0  \n",
       "Fitness            1.0       3.0      3.0      4.0       5.0  \n",
       "Income         29562.0  44058.75  50596.5  58668.0  104581.0  \n",
       "Miles             21.0      66.0     94.0   114.75     360.0  "
      ]
     },
     "execution_count": 9,
     "metadata": {},
     "output_type": "execute_result"
    }
   ],
   "source": [
    "CGF.describe(include='all').T"
   ]
  },
  {
   "cell_type": "code",
   "execution_count": 10,
   "id": "17c6e353",
   "metadata": {},
   "outputs": [
    {
     "data": {
      "text/html": [
       "<div>\n",
       "<style scoped>\n",
       "    .dataframe tbody tr th:only-of-type {\n",
       "        vertical-align: middle;\n",
       "    }\n",
       "\n",
       "    .dataframe tbody tr th {\n",
       "        vertical-align: top;\n",
       "    }\n",
       "\n",
       "    .dataframe thead th {\n",
       "        text-align: right;\n",
       "    }\n",
       "</style>\n",
       "<table border=\"1\" class=\"dataframe\">\n",
       "  <thead>\n",
       "    <tr style=\"text-align: right;\">\n",
       "      <th></th>\n",
       "      <th>Age</th>\n",
       "      <th>Gender</th>\n",
       "      <th>Education</th>\n",
       "      <th>MaritalStatus</th>\n",
       "      <th>Usage</th>\n",
       "      <th>Fitness</th>\n",
       "      <th>Income</th>\n",
       "      <th>Miles</th>\n",
       "    </tr>\n",
       "    <tr>\n",
       "      <th>Product</th>\n",
       "      <th></th>\n",
       "      <th></th>\n",
       "      <th></th>\n",
       "      <th></th>\n",
       "      <th></th>\n",
       "      <th></th>\n",
       "      <th></th>\n",
       "      <th></th>\n",
       "    </tr>\n",
       "  </thead>\n",
       "  <tbody>\n",
       "    <tr>\n",
       "      <th>TM195</th>\n",
       "      <td>2284</td>\n",
       "      <td>80</td>\n",
       "      <td>1203</td>\n",
       "      <td>80</td>\n",
       "      <td>247</td>\n",
       "      <td>237</td>\n",
       "      <td>3713442</td>\n",
       "      <td>6623</td>\n",
       "    </tr>\n",
       "    <tr>\n",
       "      <th>TM498</th>\n",
       "      <td>1734</td>\n",
       "      <td>60</td>\n",
       "      <td>907</td>\n",
       "      <td>60</td>\n",
       "      <td>184</td>\n",
       "      <td>174</td>\n",
       "      <td>2938419</td>\n",
       "      <td>5276</td>\n",
       "    </tr>\n",
       "    <tr>\n",
       "      <th>TM798</th>\n",
       "      <td>1164</td>\n",
       "      <td>40</td>\n",
       "      <td>693</td>\n",
       "      <td>40</td>\n",
       "      <td>191</td>\n",
       "      <td>185</td>\n",
       "      <td>3017663</td>\n",
       "      <td>6676</td>\n",
       "    </tr>\n",
       "  </tbody>\n",
       "</table>\n",
       "</div>"
      ],
      "text/plain": [
       "          Age  Gender  Education  MaritalStatus  Usage  Fitness   Income  \\\n",
       "Product                                                                    \n",
       "TM195    2284      80       1203             80    247      237  3713442   \n",
       "TM498    1734      60        907             60    184      174  2938419   \n",
       "TM798    1164      40        693             40    191      185  3017663   \n",
       "\n",
       "         Miles  \n",
       "Product         \n",
       "TM195     6623  \n",
       "TM498     5276  \n",
       "TM798     6676  "
      ]
     },
     "execution_count": 10,
     "metadata": {},
     "output_type": "execute_result"
    }
   ],
   "source": [
    "CGF.groupby('Product').agg({'Age':'sum','Gender':'count','Education':'sum','MaritalStatus':'count','Usage':'sum','Fitness':'sum','Income':'sum','Miles':'sum'})"
   ]
  },
  {
   "cell_type": "code",
   "execution_count": 11,
   "id": "272fa779",
   "metadata": {},
   "outputs": [
    {
     "data": {
      "image/png": "[encoded data removed]",
      "text/plain": [
       "<Figure size 432x288 with 1 Axes>"
      ]
     },
     "metadata": {
      "needs_background": "light"
     },
     "output_type": "display_data"
    }
   ],
   "source": [
    "sns.histplot(data=CGF, x='Age', kde=True)\n",
    "plt.xlabel('Age')\n",
    "plt.ylabel('Frequency')\n",
    "plt.title('Histogram of Age')\n",
    "plt.show()"
   ]
  },
  {
   "cell_type": "markdown",
   "id": "9b769266",
   "metadata": {},
   "source": [
    "    1. The distribution is right skewed\n",
    "    2. Highest customer count are between age 24 and 26"
   ]
  },
  {
   "cell_type": "code",
   "execution_count": 13,
   "id": "4615c495",
   "metadata": {},
   "outputs": [
    {
     "data": {
      "image/png": "[encoded data removed]",
      "text/plain": [
       "<Figure size 432x288 with 1 Axes>"
      ]
     },
     "metadata": {
      "needs_background": "light"
     },
     "output_type": "display_data"
    }
   ],
   "source": [
    "sns.boxplot(data=CGF, x='Education')\n",
    "plt.xlabel('Education')\n",
    "plt.ylabel('frequency')\n",
    "plt.title('Boxplot for Education')\n",
    "plt.show()"
   ]
  },
  {
   "cell_type": "markdown",
   "id": "fa48e7d0",
   "metadata": {},
   "source": [
    " 1. The distribution is slightly skewed towrads right.\n",
    " 2. There are some ourliers.\n",
    " 3. We have higher number of educated customer betweem year 14 to 16"
   ]
  },
  {
   "cell_type": "code",
   "execution_count": 30,
   "id": "61940576",
   "metadata": {},
   "outputs": [
    {
     "data": {
      "image/png": "[encoded data removed]",
      "text/plain": [
       "<Figure size 432x288 with 1 Axes>"
      ]
     },
     "metadata": {
      "needs_background": "light"
     },
     "output_type": "display_data"
    }
   ],
   "source": [
    "sns.histplot(data=CGF, x='Income', kde=True)\n",
    "plt.xlabel('Income')\n",
    "plt.ylabel('Frequency')\n",
    "plt.title('Histogram of Income')\n",
    "plt.show()"
   ]
  },
  {
   "cell_type": "markdown",
   "id": "7e7d4760",
   "metadata": {},
   "source": [
    "1. This is a right skewed distribution\n",
    "2. Less than five customers have an income od 100,000\n",
    "3. The highest customer count have income between the range of 400 and 550\n",
    "4. 35 customer earned 50,000"
   ]
  },
  {
   "cell_type": "code",
   "execution_count": 27,
   "id": "6b351a6f",
   "metadata": {},
   "outputs": [
    {
     "data": {
      "image/png": "[encoded data removed]",
      "text/plain": [
       "<Figure size 432x288 with 1 Axes>"
      ]
     },
     "metadata": {
      "needs_background": "light"
     },
     "output_type": "display_data"
    }
   ],
   "source": [
    "sns.histplot(data=CGF, x='Usage', kde=True)\n",
    "plt.xlabel('Usage')\n",
    "plt.ylabel('Frequency')\n",
    "plt.title('Histogram of Usage')\n",
    "plt.show()"
   ]
  },
  {
   "cell_type": "markdown",
   "id": "ba3201bc",
   "metadata": {},
   "source": [
    "1. The highest number of time customers will like to use the treadmill is 3\n",
    "2. The distribution is right skewed\n",
    "3.  The lowest number of time customers will like to use the treadmill is 7\n"
   ]
  },
  {
   "cell_type": "code",
   "execution_count": 15,
   "id": "185dd884",
   "metadata": {},
   "outputs": [
    {
     "data": {
      "image/png": "[encoded data removed]",
      "text/plain": [
       "<Figure size 432x288 with 1 Axes>"
      ]
     },
     "metadata": {
      "needs_background": "light"
     },
     "output_type": "display_data"
    }
   ],
   "source": [
    "sns.boxplot(data=CGF, x='Fitness')\n",
    "plt.xlabel('Fitness')\n",
    "plt.ylabel('frequency')\n",
    "plt.title('Boxplot for Fitness')\n",
    "plt.show()"
   ]
  },
  {
   "cell_type": "markdown",
   "id": "9e9ef6a1",
   "metadata": {},
   "source": [
    "    1. We have more Customers gives themselves scores between 3 and 4 marks\n",
    "    2. The distribution is left skewed\n"
   ]
  },
  {
   "cell_type": "code",
   "execution_count": 17,
   "id": "99999ea7",
   "metadata": {},
   "outputs": [
    {
     "data": {
      "image/png": "[encoded data removed]",
      "text/plain": [
       "<Figure size 432x288 with 1 Axes>"
      ]
     },
     "metadata": {
      "needs_background": "light"
     },
     "output_type": "display_data"
    }
   ],
   "source": [
    "sns.boxplot(data=CGF, x='Miles')\n",
    "plt.xlabel('Miles')\n",
    "plt.ylabel('frequency')\n",
    "plt.title('Boxplot for Miles')\n",
    "plt.show()"
   ]
  },
  {
   "cell_type": "markdown",
   "id": "a1751946",
   "metadata": {},
   "source": [
    "1. More customers covers between 75 and 120\n",
    "2. The distribution is right skewed, There are outliers."
   ]
  },
  {
   "cell_type": "code",
   "execution_count": 18,
   "id": "14a461d3",
   "metadata": {},
   "outputs": [
    {
     "data": {
      "image/png": "[encoded data removed]",
      "text/plain": [
       "<Figure size 432x288 with 1 Axes>"
      ]
     },
     "metadata": {
      "needs_background": "light"
     },
     "output_type": "display_data"
    }
   ],
   "source": [
    "sns.countplot(data=CGF, x = 'Product')\n",
    "plt.xlabel('Products')\n",
    "plt.ylabel('Frequency')\n",
    "plt.title('The Countplot of Products')\n",
    "plt.show()"
   ]
  },
  {
   "cell_type": "markdown",
   "id": "3300e394",
   "metadata": {},
   "source": [
    "1. TM195 has the highest number of customer's patronage\n",
    "2. TM798 has the lowest number of patronage"
   ]
  },
  {
   "cell_type": "code",
   "execution_count": 19,
   "id": "7848f399",
   "metadata": {},
   "outputs": [
    {
     "data": {
      "image/png": "[encoded data removed]",
      "text/plain": [
       "<Figure size 432x288 with 1 Axes>"
      ]
     },
     "metadata": {
      "needs_background": "light"
     },
     "output_type": "display_data"
    }
   ],
   "source": [
    "sns.countplot(data=CGF, x = 'MaritalStatus')\n",
    "plt.xlabel('MaritalStatus')\n",
    "plt.ylabel('Frequency')\n",
    "plt.title('The Countplot of MaritalStatus')\n",
    "plt.show()"
   ]
  },
  {
   "cell_type": "markdown",
   "id": "33d14649",
   "metadata": {},
   "source": [
    "Partnered customer patronize the gym more\n"
   ]
  },
  {
   "cell_type": "code",
   "execution_count": null,
   "id": "dfdb8465",
   "metadata": {},
   "outputs": [],
   "source": [
    "# def histogram_boxplot(data, feature, figsize=(12,7), kde=False, bin='None'):\n",
    "#     f2, (ax_box2, ax_hist2)=plt.subplot(\n",
    "#         nrow=2, \n",
    "#         sharex='True',\n",
    "#         gripespec_kw={'height_ratio':(0.25, 0.75)},\n",
    "#         fig_size=fig_size)\n",
    "#     sns.boxplot(data=data, x=feature, ax=ax_box2, showmeans=True, color='violet')\n",
    "#     sns.histplot(data=data, x=feature, kde=kde,ax=ax_hist2, bins=bins, palette='winter'\n",
    "#     )if bins else sns.histplot(\n",
    "#         data=data, x=feature, kde=kde,ax=ax_hist2\n",
    "#     )\n",
    "#     ax_hist2.axvline(data[feature].mean(), color='green', linestyle='--')\n",
    "#     ax_hist2.axvline(data[feature].median(), color='black', linestyle='-')"
   ]
  },
  {
   "cell_type": "code",
   "execution_count": 20,
   "id": "8ad24bcb",
   "metadata": {},
   "outputs": [
    {
     "data": {
      "text/html": [
       "<div>\n",
       "<style scoped>\n",
       "    .dataframe tbody tr th:only-of-type {\n",
       "        vertical-align: middle;\n",
       "    }\n",
       "\n",
       "    .dataframe tbody tr th {\n",
       "        vertical-align: top;\n",
       "    }\n",
       "\n",
       "    .dataframe thead th {\n",
       "        text-align: right;\n",
       "    }\n",
       "</style>\n",
       "<table border=\"1\" class=\"dataframe\">\n",
       "  <thead>\n",
       "    <tr style=\"text-align: right;\">\n",
       "      <th></th>\n",
       "      <th>Age</th>\n",
       "      <th>Education</th>\n",
       "      <th>Usage</th>\n",
       "      <th>Fitness</th>\n",
       "      <th>Income</th>\n",
       "      <th>Miles</th>\n",
       "    </tr>\n",
       "  </thead>\n",
       "  <tbody>\n",
       "    <tr>\n",
       "      <th>Age</th>\n",
       "      <td>1.000000</td>\n",
       "      <td>0.280496</td>\n",
       "      <td>0.015064</td>\n",
       "      <td>0.061105</td>\n",
       "      <td>0.513414</td>\n",
       "      <td>0.036618</td>\n",
       "    </tr>\n",
       "    <tr>\n",
       "      <th>Education</th>\n",
       "      <td>0.280496</td>\n",
       "      <td>1.000000</td>\n",
       "      <td>0.395155</td>\n",
       "      <td>0.410581</td>\n",
       "      <td>0.625827</td>\n",
       "      <td>0.307284</td>\n",
       "    </tr>\n",
       "    <tr>\n",
       "      <th>Usage</th>\n",
       "      <td>0.015064</td>\n",
       "      <td>0.395155</td>\n",
       "      <td>1.000000</td>\n",
       "      <td>0.668606</td>\n",
       "      <td>0.519537</td>\n",
       "      <td>0.759130</td>\n",
       "    </tr>\n",
       "    <tr>\n",
       "      <th>Fitness</th>\n",
       "      <td>0.061105</td>\n",
       "      <td>0.410581</td>\n",
       "      <td>0.668606</td>\n",
       "      <td>1.000000</td>\n",
       "      <td>0.535005</td>\n",
       "      <td>0.785702</td>\n",
       "    </tr>\n",
       "    <tr>\n",
       "      <th>Income</th>\n",
       "      <td>0.513414</td>\n",
       "      <td>0.625827</td>\n",
       "      <td>0.519537</td>\n",
       "      <td>0.535005</td>\n",
       "      <td>1.000000</td>\n",
       "      <td>0.543473</td>\n",
       "    </tr>\n",
       "    <tr>\n",
       "      <th>Miles</th>\n",
       "      <td>0.036618</td>\n",
       "      <td>0.307284</td>\n",
       "      <td>0.759130</td>\n",
       "      <td>0.785702</td>\n",
       "      <td>0.543473</td>\n",
       "      <td>1.000000</td>\n",
       "    </tr>\n",
       "  </tbody>\n",
       "</table>\n",
       "</div>"
      ],
      "text/plain": [
       "                Age  Education     Usage   Fitness    Income     Miles\n",
       "Age        1.000000   0.280496  0.015064  0.061105  0.513414  0.036618\n",
       "Education  0.280496   1.000000  0.395155  0.410581  0.625827  0.307284\n",
       "Usage      0.015064   0.395155  1.000000  0.668606  0.519537  0.759130\n",
       "Fitness    0.061105   0.410581  0.668606  1.000000  0.535005  0.785702\n",
       "Income     0.513414   0.625827  0.519537  0.535005  1.000000  0.543473\n",
       "Miles      0.036618   0.307284  0.759130  0.785702  0.543473  1.000000"
      ]
     },
     "execution_count": 20,
     "metadata": {},
     "output_type": "execute_result"
    }
   ],
   "source": [
    "corr_mat=CGF[CGF.columns].corr()\n",
    "corr_mat"
   ]
  },
  {
   "cell_type": "code",
   "execution_count": 21,
   "id": "bf0d66e7",
   "metadata": {},
   "outputs": [
    {
     "data": {
      "image/png": "[encoded data removed]",
      "text/plain": [
       "<Figure size 432x288 with 2 Axes>"
      ]
     },
     "metadata": {
      "needs_background": "light"
     },
     "output_type": "display_data"
    }
   ],
   "source": [
    "plt.figure()\n",
    "sns.heatmap(data = corr_mat, annot = True, vmin = -1, vmax = 1, cmap = 'Spectral');"
   ]
  },
  {
   "cell_type": "code",
   "execution_count": null,
   "id": "66eb3790",
   "metadata": {},
   "outputs": [],
   "source": []
  },
  {
   "cell_type": "code",
   "execution_count": null,
   "id": "43b1721f",
   "metadata": {},
   "outputs": [],
   "source": [
    "Miles correlated with Usage and Fitness highly positive \n",
    "Miles correlated with Income moderately positive\n",
    "Income correlated with Age, Fitness and Education moderately positive"
   ]
  },
  {
   "cell_type": "code",
   "execution_count": 22,
   "id": "ab42fa0b",
   "metadata": {},
   "outputs": [
    {
     "name": "stdout",
     "output_type": "stream",
     "text": [
      "<class 'pandas.core.frame.DataFrame'>\n",
      "RangeIndex: 180 entries, 0 to 179\n",
      "Data columns (total 9 columns):\n",
      " #   Column         Non-Null Count  Dtype \n",
      "---  ------         --------------  ----- \n",
      " 0   Product        180 non-null    object\n",
      " 1   Age            180 non-null    int64 \n",
      " 2   Gender         180 non-null    object\n",
      " 3   Education      180 non-null    int64 \n",
      " 4   MaritalStatus  180 non-null    object\n",
      " 5   Usage          180 non-null    int64 \n",
      " 6   Fitness        180 non-null    int64 \n",
      " 7   Income         180 non-null    int64 \n",
      " 8   Miles          180 non-null    int64 \n",
      "dtypes: int64(6), object(3)\n",
      "memory usage: 12.8+ KB\n"
     ]
    }
   ],
   "source": [
    "CGF.info()"
   ]
  },
  {
   "cell_type": "code",
   "execution_count": 31,
   "id": "03903a9b",
   "metadata": {},
   "outputs": [
    {
     "data": {
      "image/png": "[encoded data removed]",
      "text/plain": [
       "<Figure size 432x288 with 1 Axes>"
      ]
     },
     "metadata": {
      "needs_background": "light"
     },
     "output_type": "display_data"
    }
   ],
   "source": [
    "sns.boxplot(data=CGF, x='Product', y='Income')\n",
    "plt.xlabel('Product')\n",
    "plt.ylabel('Income')\n",
    "plt.title('Boxplot for Income')\n",
    "plt.show()"
   ]
  },
  {
   "cell_type": "markdown",
   "id": "1ca3a40b",
   "metadata": {},
   "source": [
    "TM798 has the customer with most income"
   ]
  },
  {
   "cell_type": "code",
   "execution_count": 23,
   "id": "37cdf8f8",
   "metadata": {},
   "outputs": [
    {
     "data": {
      "image/png": "[encoded data removed]",
      "text/plain": [
       "<Figure size 444.5x360 with 1 Axes>"
      ]
     },
     "metadata": {
      "needs_background": "light"
     },
     "output_type": "display_data"
    }
   ],
   "source": [
    "sns.catplot(data=CGF, x='Product', y='Age', kind='box', hue='MaritalStatus')\n",
    "plt.xticks(rotation=90)\n",
    "plt.xlabel('Product')\n",
    "plt.ylabel('Age')\n",
    "plt.title('categorical plot for Product')\n",
    "plt.show()\n"
   ]
  },
  {
   "cell_type": "markdown",
   "id": "956791b5",
   "metadata": {},
   "source": [
    "    1. Products TM195 has the customer with the highest age.\n",
    "    2. Partnered customer visit the fitness center more.\n",
    "    3. The partnered customer have the highest age in all the products individually and combined."
   ]
  },
  {
   "cell_type": "code",
   "execution_count": 24,
   "id": "07c287f0",
   "metadata": {},
   "outputs": [
    {
     "data": {
      "image/png": "[encoded data removed]",
      "text/plain": [
       "<Figure size 444.5x360 with 1 Axes>"
      ]
     },
     "metadata": {
      "needs_background": "light"
     },
     "output_type": "display_data"
    }
   ],
   "source": [
    "sns.catplot(data=CGF, x='Product', y='Income', kind='box', hue='MaritalStatus')\n",
    "plt.xticks(rotation=90)\n",
    "plt.xlabel('Product')\n",
    "plt.ylabel('Income')\n",
    "plt.title('categorical plot for Product')\n",
    "plt.show()"
   ]
  },
  {
   "cell_type": "markdown",
   "id": "bf8cae9d",
   "metadata": {},
   "source": [
    "TM798 has the highest income eanred by partnered and single "
   ]
  },
  {
   "cell_type": "code",
   "execution_count": 25,
   "id": "ae935efd",
   "metadata": {},
   "outputs": [
    {
     "data": {
      "image/png": "[encoded data removed]",
      "text/plain": [
       "<Figure size 432x288 with 1 Axes>"
      ]
     },
     "metadata": {
      "needs_background": "light"
     },
     "output_type": "display_data"
    }
   ],
   "source": [
    "sns.scatterplot(data=CGF, x='Product', y='Usage', hue='Gender')\n",
    "plt.xlabel('Product')\n",
    "plt.ylabel('Usage')\n",
    "plt.title('scatter plot for Product')\n",
    "plt.show()"
   ]
  },
  {
   "cell_type": "markdown",
   "id": "c58f36f8",
   "metadata": {},
   "source": [
    "1. Males uses products TM798 more and the product also have the highest usage\n",
    "2. The number of females that used the other two products are more than males"
   ]
  },
  {
   "cell_type": "code",
   "execution_count": 26,
   "id": "f23096a5",
   "metadata": {},
   "outputs": [
    {
     "data": {
      "image/png": "[encoded data removed]",
      "text/plain": [
       "<Figure size 432x288 with 1 Axes>"
      ]
     },
     "metadata": {
      "needs_background": "light"
     },
     "output_type": "display_data"
    }
   ],
   "source": [
    "sns.scatterplot(data=CGF, x='Product', y='Education', hue='Gender')\n",
    "plt.xlabel('Product')\n",
    "plt.ylabel('Education')\n",
    "plt.title('scatter plot for Product')\n",
    "plt.show()"
   ]
  },
  {
   "cell_type": "markdown",
   "id": "a943f4cb",
   "metadata": {},
   "source": [
    "TM 798 has the highest number of educated male that uses the products\n",
    "Male are more educated than the female\n",
    "Product TM195 has the highest number of female customers"
   ]
  },
  {
   "cell_type": "markdown",
   "id": "ba0b37d7",
   "metadata": {},
   "source": [
    "## General observation based on visualization\n",
    "1. Educated and high income earner customers uses product TM798 more\n",
    "2. Males that patronize the center are higher income earner that female\n",
    "3. Partnered earn more that single customers\n",
    "4. Male customers patronize the fitness center more than the female customers\n",
    "5. Higher count of customer uses tradmill three times than other number of time\n",
    "6. Males uses products TM798 more and the product also have the highest usage\n",
    "7. Less than five customers have an income od 100,000\n",
    "8. The highest customer count have income between the range of 400 and 550\n",
    "9. 35 customer earned 50,000\n",
    "10. Product TM798 has the highest income eanred by partnered and single "
   ]
  },
  {
   "cell_type": "markdown",
   "id": "ccb23b99",
   "metadata": {},
   "source": [
    "# Recommendation\n",
    "1. There should be referal scheme reward to encourage few high income earner \n",
    "that visit the fitness center to refer their family, friends and business \n",
    "partners to the center\n",
    "2. There should be bonus number of exercise given to those that choose product TM798\n",
    "3. There should be focus on male customers, engage them on their preferences\n",
    "4. More products for couples"
   ]
  },
  {
   "cell_type": "code",
   "execution_count": null,
   "id": "cddaaa69",
   "metadata": {},
   "outputs": [],
   "source": []
  }
 ],
 "metadata": {
  "kernelspec": {
   "display_name": "Python 3 (ipykernel)",
   "language": "python",
   "name": "python3"
  },
  "language_info": {
   "codemirror_mode": {
    "name": "ipython",
    "version": 3
   },
   "file_extension": ".py",
   "mimetype": "text/x-python",
   "name": "python",
   "nbconvert_exporter": "python",
   "pygments_lexer": "ipython3",
   "version": "3.9.12"
  }
 },
 "nbformat": 4,
 "nbformat_minor": 5
}
